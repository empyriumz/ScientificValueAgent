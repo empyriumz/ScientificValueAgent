{
 "cells": [
  {
   "cell_type": "code",
   "execution_count": null,
   "id": "e571f209-db40-493c-a035-901ae1fd3227",
   "metadata": {},
   "outputs": [],
   "source": [
    "%load_ext autoreload\n",
    "%autoreload 2\n",
    "%config Completer.use_jedi = False"
   ]
  },
  {
   "cell_type": "code",
   "execution_count": null,
   "id": "aa91026d-9a8e-4435-8f2f-b81b9190d46b",
   "metadata": {},
   "outputs": [],
   "source": [
    "import numpy as np\n",
    "import matplotlib.pyplot as plt\n",
    "from tqdm import tqdm\n",
    "from tempfile import TemporaryDirectory\n",
    "import imageio\n",
    "from functools import partial\n",
    "import gpytorch"
   ]
  },
  {
   "cell_type": "code",
   "execution_count": null,
   "id": "0f97685c-3980-4e41-8ced-5db4592bdf08",
   "metadata": {},
   "outputs": [],
   "source": [
    "# Import the campaign objects\n",
    "from sva.campaign import Campaign, CampaignData, FixedSVAPolicy\n",
    "\n",
    "# Import the various experiments we need for the notebook\n",
    "from sva.experiments import Sine2Phase\n",
    "\n",
    "# Import the model\n",
    "from sva.models import EasySingleTaskGP\n",
    "\n",
    "# Utils\n",
    "from sva.mpl_utils import set_mpl_defaults"
   ]
  },
  {
   "cell_type": "code",
   "execution_count": null,
   "id": "1928fccf-1a6a-4071-a0d4-d65f35bd3c12",
   "metadata": {},
   "outputs": [],
   "source": [
    "set_mpl_defaults()"
   ]
  },
  {
   "cell_type": "markdown",
   "id": "56f9eb37-bca5-4832-8c4a-de60b3c3275e",
   "metadata": {},
   "source": [
    "# A simple 2d example"
   ]
  },
  {
   "cell_type": "markdown",
   "id": "1081ae1c-3d4b-475a-8ea5-aaa24f98b5ae",
   "metadata": {},
   "source": [
    "Two-phase experiment with a sinusoidal phase boundary."
   ]
  },
  {
   "cell_type": "code",
   "execution_count": null,
   "id": "addfd9f2-9c94-4a78-8447-4e067ee27339",
   "metadata": {},
   "outputs": [],
   "source": [
    "experiment = Sine2Phase()\n",
    "extent = experiment.get_domain_mpl_extent()"
   ]
  },
  {
   "cell_type": "code",
   "execution_count": null,
   "id": "b6e7455c-1660-4c34-b8be-7c88da1902ca",
   "metadata": {},
   "outputs": [],
   "source": [
    "# Get the ground truth results\n",
    "x = experiment.get_dense_coordinates(ppd=100)\n",
    "y = experiment.get_phase(x)"
   ]
  },
  {
   "cell_type": "code",
   "execution_count": null,
   "id": "1466cdab-1a4c-40bd-9ff1-d23a216b2adb",
   "metadata": {},
   "outputs": [],
   "source": [
    "fig, axs = plt.subplots(1, 1, figsize=(2, 2), sharex=True, sharey=True)\n",
    "\n",
    "ax = axs\n",
    "ax.imshow(\n",
    "    y.reshape(100, 100).T,\n",
    "    extent=extent,\n",
    "    interpolation=\"nearest\",\n",
    "    origin=\"lower\",\n",
    "    cmap=\"RdBu\",\n",
    ")\n",
    "\n",
    "plt.show()"
   ]
  },
  {
   "cell_type": "markdown",
   "id": "441a19eb-c233-4b41-ae8b-ce31d1c78bfa",
   "metadata": {},
   "source": [
    "# Running the experiment"
   ]
  },
  {
   "cell_type": "code",
   "execution_count": null,
   "id": "38c315a4-77fd-4d66-9449-e89155ebf216",
   "metadata": {},
   "outputs": [],
   "source": [
    "N_start = 3\n",
    "N_max = 150\n",
    "SEED = 133"
   ]
  },
  {
   "cell_type": "code",
   "execution_count": null,
   "id": "f3a07d73-b5f9-4052-92f7-478f52ecde07",
   "metadata": {},
   "outputs": [],
   "source": [
    "data = CampaignData()\n",
    "data.prime(experiment, \"LatinHypercube\", seed=SEED, n=N_start)\n",
    "covar_module = gpytorch.kernels.ScaleKernel(gpytorch.kernels.MaternKernel())\n",
    "model_factory = partial(EasySingleTaskGP.from_default, covar_module=covar_module)\n",
    "policy = FixedSVAPolicy(\n",
    "    n_max=N_max, acquisition_function=\"UCB-50\", model_factory=model_factory, save_model=True,\n",
    "    optimize_kwargs={\"q\": 1, \"num_restarts\": 20, \"raw_samples\": 100}\n",
    ")\n",
    "campaign = Campaign(data=data, experiment=experiment, policy=policy, seed=SEED)"
   ]
  },
  {
   "cell_type": "code",
   "execution_count": null,
   "id": "62a023fd-e762-4e72-a033-5696f4eb93df",
   "metadata": {
    "scrolled": true
   },
   "outputs": [],
   "source": [
    "campaign.run()"
   ]
  },
  {
   "cell_type": "code",
   "execution_count": null,
   "id": "c1f9a15b-140f-4ee2-835e-93738038b824",
   "metadata": {},
   "outputs": [],
   "source": [
    "grid = np.linspace(0, 1, 100)\n",
    "b = 0.5 + 0.25 * np.sin(2.0 * np.pi * grid)"
   ]
  },
  {
   "cell_type": "code",
   "execution_count": null,
   "id": "adb88571-f2fe-4372-a819-5038871bf02a",
   "metadata": {},
   "outputs": [],
   "source": [
    "gp = data.metadata[-1][\"model\"]\n",
    "mu, var = gp.predict(x)\n",
    "mu = mu.reshape(100, 100).T\n",
    "mu -= mu.min()\n",
    "mu /= mu.max()\n",
    "var = var.reshape(100, 100).T\n",
    "var -= var.min()\n",
    "var /= var.max()"
   ]
  },
  {
   "cell_type": "code",
   "execution_count": null,
   "id": "920167fd-99c7-48dc-8d6f-265a35dab688",
   "metadata": {},
   "outputs": [],
   "source": [
    "fig, axs = plt.subplots(1, 1, figsize=(2, 2), sharex=True, sharey=True)\n",
    "\n",
    "ax = axs\n",
    "\n",
    "X = campaign.data.X\n",
    "im = ax.imshow(mu, extent=extent, interpolation=\"nearest\", origin=\"lower\")\n",
    "ax.scatter(X[:, 0], X[:, 1], color=\"red\", s=0.5, zorder=3)\n",
    "ax.plot(grid, b, linestyle=\"--\", linewidth=0.5, color=\"black\")\n",
    "\n",
    "ax.set_xticks([0, 1])\n",
    "ax.set_yticks([0, 1])\n",
    "\n",
    "ax.set_xlabel(\"$x_1$\")\n",
    "ax.set_ylabel(\"$x_2$\")\n",
    "\n",
    "plt.show()"
   ]
  },
  {
   "cell_type": "markdown",
   "id": "fa6b4fde-71e3-459f-9e4d-8a0c10dac906",
   "metadata": {},
   "source": [
    "## Let's make a GIF of the mean"
   ]
  },
  {
   "cell_type": "code",
   "execution_count": null,
   "id": "0b118e6f-28bf-44e2-8620-0cb3b4154551",
   "metadata": {},
   "outputs": [],
   "source": [
    "X = data.X\n",
    "\n",
    "with TemporaryDirectory() as f:\n",
    "    filenames = []\n",
    "\n",
    "    for ii, datum in tqdm(enumerate(campaign.data.metadata)):\n",
    "        gp = datum.get(\"model\")\n",
    "        if not gp:\n",
    "            continue\n",
    "        mu, var = gp.predict(x)\n",
    "        mu = mu.reshape(100, 100).T\n",
    "        mu -= mu.min()\n",
    "        mu /= mu.max()\n",
    "\n",
    "        fig, axs = plt.subplots(1, 1, figsize=(3, 3), sharex=True, sharey=True)\n",
    "\n",
    "        ax = axs\n",
    "\n",
    "        n = ii\n",
    "        im = ax.imshow(\n",
    "            mu, extent=extent, interpolation=\"nearest\", origin=\"lower\"\n",
    "        )\n",
    "        ax.scatter(X[:n, 0], X[:n, 1], color=\"red\", s=0.5, zorder=3)\n",
    "        ax.plot(grid, b, linestyle=\"--\", linewidth=0.5, color=\"black\")\n",
    "\n",
    "        ax.set_xticks([0, 1])\n",
    "        ax.set_yticks([0, 1])\n",
    "\n",
    "        ax.set_xlabel(\"$x_1$\")\n",
    "        ax.set_ylabel(\"$x_2$\")\n",
    "\n",
    "        ax.set_title(f\"$N={n}$\")\n",
    "\n",
    "        cbar = plt.colorbar(im, ax=ax)\n",
    "        cbar.set_ticks([0, 1])\n",
    "        cbar.set_label(r\"$\\mathcal{G}(\\mathbf{x}) \\approx U_i(D_N)$\")\n",
    "\n",
    "        filename = f\"{f}/{ii}.png\"\n",
    "        filenames.append(filename)\n",
    "\n",
    "        plt.savefig(filename)\n",
    "        plt.close()\n",
    "\n",
    "    frames = []\n",
    "    for filename in filenames:\n",
    "        frames.append(imageio.imread(filename))\n",
    "\n",
    "    exportname = \"sine2phase.gif\"\n",
    "    kwargs = {\"duration\": 1.0}\n",
    "    imageio.mimsave(exportname, frames, \"GIF\", **kwargs)"
   ]
  }
 ],
 "metadata": {
  "kernelspec": {
   "display_name": "Python 3 (ipykernel)",
   "language": "python",
   "name": "python3"
  },
  "language_info": {
   "codemirror_mode": {
    "name": "ipython",
    "version": 3
   },
   "file_extension": ".py",
   "mimetype": "text/x-python",
   "name": "python",
   "nbconvert_exporter": "python",
   "pygments_lexer": "ipython3",
   "version": "3.12.7"
  }
 },
 "nbformat": 4,
 "nbformat_minor": 5
}
