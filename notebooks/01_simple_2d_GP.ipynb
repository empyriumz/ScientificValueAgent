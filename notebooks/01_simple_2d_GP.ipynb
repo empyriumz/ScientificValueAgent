{
 "cells": [
  {
   "cell_type": "code",
   "execution_count": null,
   "id": "e571f209-db40-493c-a035-901ae1fd3227",
   "metadata": {},
   "outputs": [],
   "source": [
    "%load_ext autoreload\n",
    "%autoreload 2\n",
    "%config Completer.use_jedi = False"
   ]
  },
  {
   "cell_type": "code",
   "execution_count": null,
   "id": "aa91026d-9a8e-4435-8f2f-b81b9190d46b",
   "metadata": {},
   "outputs": [],
   "source": [
    "import matplotlib.pyplot as plt\n",
    "from mpl_toolkits.axes_grid1 import ImageGrid\n",
    "import numpy as np\n",
    "import string\n",
    "from sklearn.neighbors import KNeighborsRegressor"
   ]
  },
  {
   "cell_type": "code",
   "execution_count": null,
   "id": "0f97685c-3980-4e41-8ced-5db4592bdf08",
   "metadata": {},
   "outputs": [],
   "source": [
    "# Import the various experiments we need for the notebook\n",
    "from sva.experiments import Simple2d, GPDream, GPDreamKNN\n",
    "\n",
    "# Import the helper functions for Gaussian Processes\n",
    "from sva.models import EasySingleTaskGP\n",
    "\n",
    "# Other utilities\n",
    "from sva.utils import seed_everything\n",
    "from sva.mpl_utils import set_mpl_defaults, set_mpl_grids"
   ]
  },
  {
   "cell_type": "code",
   "execution_count": null,
   "id": "bddcacbc-88fa-4746-a8fd-584bf68a092d",
   "metadata": {},
   "outputs": [],
   "source": [
    "set_mpl_defaults()"
   ]
  },
  {
   "cell_type": "markdown",
   "id": "56f9eb37-bca5-4832-8c4a-de60b3c3275e",
   "metadata": {},
   "source": [
    "# A simple 2d example"
   ]
  },
  {
   "cell_type": "markdown",
   "id": "d6c1853b-9c4f-45af-b623-80ce2a6b237c",
   "metadata": {},
   "source": [
    "Here's a simple example of using a GP to fit some data in a 2-dimensional space. We show the ground truth, GP fit and the error in the GP predictions."
   ]
  },
  {
   "cell_type": "code",
   "execution_count": null,
   "id": "a37128b1-d064-41ac-aad0-124c55638adf",
   "metadata": {},
   "outputs": [],
   "source": [
    "seed_everything(123)"
   ]
  },
  {
   "cell_type": "code",
   "execution_count": null,
   "id": "addfd9f2-9c94-4a78-8447-4e067ee27339",
   "metadata": {},
   "outputs": [],
   "source": [
    "experiment = Simple2d()\n",
    "extent = experiment.get_domain_mpl_extent()\n",
    "X = experiment.get_random_coordinates(35)"
   ]
  },
  {
   "cell_type": "code",
   "execution_count": null,
   "id": "b6e7455c-1660-4c34-b8be-7c88da1902ca",
   "metadata": {},
   "outputs": [],
   "source": [
    "# Get the ground truth results\n",
    "x = experiment.get_dense_coordinates(ppd=100)\n",
    "y, _ = experiment(x)"
   ]
  },
  {
   "cell_type": "code",
   "execution_count": null,
   "id": "0bdf5f15-9164-448f-8756-cc236deb8543",
   "metadata": {},
   "outputs": [],
   "source": [
    "# Train a GP on the current data\n",
    "_y, _ = experiment(X)\n",
    "gp = EasySingleTaskGP.from_default(X, _y)\n",
    "gp.fit_mll()\n",
    "mu, var = gp.predict(x)"
   ]
  },
  {
   "cell_type": "code",
   "execution_count": null,
   "id": "1466cdab-1a4c-40bd-9ff1-d23a216b2adb",
   "metadata": {},
   "outputs": [],
   "source": [
    "fig, axs = plt.subplots(1, 3, figsize=(6, 3), sharex=True, sharey=True)\n",
    "\n",
    "ax = axs[0]\n",
    "ax.imshow(\n",
    "    y.reshape(100, 100).T,\n",
    "    extent=extent,\n",
    "    interpolation=\"nearest\",\n",
    "    origin=\"lower\",\n",
    ")\n",
    "ax.scatter(X[:, 0], X[:, 1], color=\"black\", s=0.5)\n",
    "ax.set_title(\"Ground Truth\")\n",
    "\n",
    "\n",
    "ax = axs[1]\n",
    "ax.imshow(\n",
    "    mu.reshape(100, 100).T,\n",
    "    extent=extent,\n",
    "    interpolation=\"nearest\",\n",
    "    origin=\"lower\",\n",
    ")\n",
    "ax.scatter(X[:, 0], X[:, 1], color=\"black\", s=0.5)\n",
    "ax.set_title(\"GP Prediction\")\n",
    "\n",
    "\n",
    "ax = axs[2]\n",
    "ax.imshow(\n",
    "    mu.reshape(100, 100).T - y.reshape(100, 100).T,\n",
    "    extent=extent,\n",
    "    interpolation=\"nearest\",\n",
    "    origin=\"lower\",\n",
    "    cmap=\"RdBu\",\n",
    ")\n",
    "ax.scatter(X[:, 0], X[:, 1], color=\"black\", s=0.5)\n",
    "ax.set_title(\"Delta\")\n",
    "\n",
    "\n",
    "plt.show()"
   ]
  },
  {
   "cell_type": "markdown",
   "id": "d28d80df-ecc0-4b45-a9f1-860cdb343d21",
   "metadata": {},
   "source": [
    "# Example 2d test functions"
   ]
  },
  {
   "cell_type": "markdown",
   "id": "e6dde192-6f8b-4ac4-a99c-c33acd28cb96",
   "metadata": {},
   "source": [
    "We can also use GPs _themselves_ as test functions. The way this is done is by using the uniformed prior, sampling from it, and then fitting another deterministic function to that data. This allows us to produce an infinite number of test functions consistent with a kernel (usually RBF) and its length scale."
   ]
  },
  {
   "cell_type": "code",
   "execution_count": null,
   "id": "96727fbf-35a3-43bb-89d6-7a61056bf015",
   "metadata": {},
   "outputs": [],
   "source": [
    "experiments = [\n",
    "    GPDream.from_default(gp_model_params={\"kernel\":\"rbf\", \"lengthscale\": 0.1}, d=2, seed=2),\n",
    "    GPDream.from_default(gp_model_params={\"kernel\":\"rbf\", \"lengthscale\": 0.3}, d=2, seed=3),\n",
    "    GPDream.from_default(gp_model_params={\"kernel\":\"periodic\", \"lengthscale\": 0.2, \"period_length\": 1.0}, d=2, seed=4),\n",
    "    GPDream.from_default(gp_model_params={\"kernel\":\"periodic\", \"lengthscale\": 0.5, \"period_length\": 1.0}, d=2, seed=3),\n",
    "    GPDream.from_default(gp_model_params={\"kernel\":\"periodic\", \"lengthscale\": 0.8, \"period_length\": 0.5}, d=2, seed=5)\n",
    "]"
   ]
  },
  {
   "cell_type": "code",
   "execution_count": null,
   "id": "47d2a3c6-1642-4797-829f-a961e568e88e",
   "metadata": {},
   "outputs": [],
   "source": [
    "optima = []\n",
    "results = []\n",
    "for ii, experiment in enumerate(experiments):\n",
    "    x = experiment.get_dense_coordinates(ppd=100)\n",
    "    y, _ = experiment(x)\n",
    "    y = y.squeeze()\n",
    "    extent = experiment.get_domain_mpl_extent()\n",
    "    optima.append(experiment.optimum)\n",
    "    results.append(y)"
   ]
  },
  {
   "cell_type": "code",
   "execution_count": null,
   "id": "1e315fef-ca04-4dfd-bb2c-026d0cd6f84d",
   "metadata": {},
   "outputs": [],
   "source": [
    "vmin = np.min(results)\n",
    "vmax = np.max(results)"
   ]
  },
  {
   "cell_type": "code",
   "execution_count": null,
   "id": "5ee73bc0-3375-4ff5-b260-fdd1c8f6eb34",
   "metadata": {},
   "outputs": [],
   "source": [
    "f = plt.figure(figsize=(2 * len(experiments), 2))\n",
    "\n",
    "axs = ImageGrid(\n",
    "    f,\n",
    "    111,\n",
    "    nrows_ncols=(1, len(experiments)),\n",
    "    axes_pad=0.25,\n",
    "    share_all=True,\n",
    "    # cbar_location=\"right\",\n",
    "    # cbar_mode=\"edge\",\n",
    "    # cbar_size=\"5%\",\n",
    "    # cbar_pad=0.15,\n",
    "    aspect=False,\n",
    ")\n",
    "\n",
    "\n",
    "for ii, r in enumerate(results):\n",
    "\n",
    "    ax = axs[ii]\n",
    "\n",
    "    ax.set_xticks([-1, 0, 1])\n",
    "    ax.set_yticks([-1, 0, 1])\n",
    "    \n",
    "    set_mpl_grids(ax)\n",
    "    \n",
    "    im = ax.imshow(r.reshape(100, 100)[:, ::-1].T, extent=extent, aspect=\"equal\", cmap=\"viridis\")\n",
    "    ax.scatter(*optima[ii][0].squeeze(), color=\"black\", marker=\"x\")\n",
    "    l = string.ascii_lowercase[ii]\n",
    "    ax.text(0.1, 0.1, f\"({l})\", ha=\"left\", va=\"bottom\", transform=ax.transAxes, color=\"white\")\n",
    "\n",
    "    # cbar = ax.cax.colorbar(im)\n",
    "    # cbar.set_label(r\"$f(\\mathbf{x})$\")\n",
    "\n",
    "axs[0].set_ylabel(r\"$x_2$\")\n",
    "axs[len(experiments) // 2].set_xlabel(r\"$x_1$\")\n",
    "\n",
    "plt.show()"
   ]
  }
 ],
 "metadata": {
  "kernelspec": {
   "display_name": "Python 3 (ipykernel)",
   "language": "python",
   "name": "python3"
  },
  "language_info": {
   "codemirror_mode": {
    "name": "ipython",
    "version": 3
   },
   "file_extension": ".py",
   "mimetype": "text/x-python",
   "name": "python",
   "nbconvert_exporter": "python",
   "pygments_lexer": "ipython3",
   "version": "3.12.7"
  }
 },
 "nbformat": 4,
 "nbformat_minor": 5
}
