{
 "cells": [
  {
   "cell_type": "code",
   "execution_count": null,
   "id": "e571f209-db40-493c-a035-901ae1fd3227",
   "metadata": {},
   "outputs": [],
   "source": [
    "%load_ext autoreload\n",
    "%autoreload 2\n",
    "%config Completer.use_jedi = False"
   ]
  },
  {
   "cell_type": "code",
   "execution_count": null,
   "id": "aa91026d-9a8e-4435-8f2f-b81b9190d46b",
   "metadata": {},
   "outputs": [],
   "source": [
    "import matplotlib.pyplot as plt\n",
    "from functools import partial\n",
    "import numpy as np"
   ]
  },
  {
   "cell_type": "code",
   "execution_count": null,
   "id": "0f97685c-3980-4e41-8ced-5db4592bdf08",
   "metadata": {},
   "outputs": [],
   "source": [
    "# Import the various experiments we need for the notebook\n",
    "from sva.experiments import GPDream\n",
    "\n",
    "# Plotting quality of life utils\n",
    "from sva.mpl_utils import set_mpl_defaults\n",
    "\n",
    "# Import the campaign\n",
    "from sva.campaign import Campaign, CampaignData, FixedPolicy\n",
    "\n",
    "# Model to use\n",
    "from sva.models import EasySingleTaskGP"
   ]
  },
  {
   "cell_type": "code",
   "execution_count": null,
   "id": "11944c41-6263-4c62-997d-17ea04035137",
   "metadata": {},
   "outputs": [],
   "source": [
    "set_mpl_defaults()"
   ]
  },
  {
   "cell_type": "markdown",
   "id": "56f9eb37-bca5-4832-8c4a-de60b3c3275e",
   "metadata": {},
   "source": [
    "# A simple 2d example campaign"
   ]
  },
  {
   "cell_type": "code",
   "execution_count": null,
   "id": "a02720e6-9ea8-444f-95c8-41f371a0ba66",
   "metadata": {},
   "outputs": [],
   "source": [
    "SEED = 131\n",
    "N_start = 5\n",
    "N_max = 40\n",
    "ppd = 200"
   ]
  },
  {
   "cell_type": "code",
   "execution_count": null,
   "id": "c56950e5-de97-4066-b5c1-c61f455de6bc",
   "metadata": {},
   "outputs": [],
   "source": [
    "experiment = GPDream.from_default(gp_model_params={\"kernel\":\"rbf\", \"lengthscale\": 0.1}, d=2, seed=SEED)\n",
    "x = experiment.get_dense_coordinates(ppd=ppd)\n",
    "y, _ = experiment(x)\n",
    "extent = experiment.get_domain_mpl_extent()"
   ]
  },
  {
   "cell_type": "markdown",
   "id": "3a2ec28d-0c7d-4f4f-b07b-3e3ee74e9550",
   "metadata": {},
   "source": [
    "We'll need some other bits and pieces to effectively run a campaign!"
   ]
  },
  {
   "cell_type": "code",
   "execution_count": null,
   "id": "7806646a-d178-4ee3-85fa-07b72cff3c33",
   "metadata": {},
   "outputs": [],
   "source": [
    "data = CampaignData()\n",
    "data.prime(experiment, \"LatinHypercube\", seed=SEED, n=N_start)\n",
    "policy = FixedPolicy(n_max=N_max, acquisition_function=\"EI\", save_model=True)\n",
    "campaign = Campaign(data=data, experiment=experiment, policy=policy, seed=SEED)"
   ]
  },
  {
   "cell_type": "code",
   "execution_count": null,
   "id": "2472f794-ce15-413e-b521-1a0f660608d1",
   "metadata": {},
   "outputs": [],
   "source": [
    "campaign.run()"
   ]
  },
  {
   "cell_type": "code",
   "execution_count": null,
   "id": "004a6879-87e3-4604-b84d-f9f1202039fa",
   "metadata": {},
   "outputs": [],
   "source": [
    "model = campaign.get_model_at_iteration(-1)\n",
    "pred, std = model.predict(x)\n",
    "experiment_maxima = experiment.metadata[\"optimum\"][1].item()\n",
    "experiment_argmax = experiment.metadata[\"optimum\"][0].numpy()"
   ]
  },
  {
   "cell_type": "code",
   "execution_count": null,
   "id": "90c23ad6-830d-4dd8-86f8-9527676d210c",
   "metadata": {},
   "outputs": [],
   "source": [
    "fig, axs = plt.subplots(1, 4, figsize=(6, 2), sharex=True, sharey=True)\n",
    "plot_kwargs = {\"extent\": extent, \"interpolation\": \"nearest\", \"origin\": \"lower\", \"cmap\": \"viridis\"}\n",
    "\n",
    "ax = axs[0]\n",
    "ax.imshow(y.reshape(ppd, ppd).T, **plot_kwargs)\n",
    "ax.scatter(data.X[:N_start, 0], data.X[:N_start, 1], color='black')\n",
    "ax.scatter(data.X[:, 0], data.X[:, 1], s=3, color='red')\n",
    "ax.scatter(experiment_argmax[:, 0], experiment_argmax[:, 1], marker=\"x\", s=10)\n",
    "ax.set_title(\"Truth w/ samples\")\n",
    "\n",
    "ax = axs[1]\n",
    "ax.imshow(pred.reshape(ppd, ppd).T, **plot_kwargs)\n",
    "ax.set_title(\"Pred\")\n",
    "\n",
    "ax = axs[2]\n",
    "plot_kwargs[\"cmap\"] = \"RdBu\"\n",
    "ax.imshow((y - pred.reshape(-1, 1)).reshape(ppd, ppd).T, **plot_kwargs)\n",
    "ax.set_title(\"Delta\")\n",
    "\n",
    "ax = axs[3]\n",
    "plot_kwargs[\"cmap\"] = \"viridis\"\n",
    "ax.imshow(std.reshape(ppd, ppd).T, **plot_kwargs)\n",
    "ax.set_title(\"Std\")\n",
    "\n",
    "plt.show()"
   ]
  },
  {
   "cell_type": "markdown",
   "id": "c2846b07-c19d-441d-a790-89cbc873f4ed",
   "metadata": {},
   "source": [
    "We can also plot a few key metrics to get an idea of how well the models are performing."
   ]
  },
  {
   "cell_type": "code",
   "execution_count": null,
   "id": "b2407e34-17ad-4887-a2db-25f0582ed51f",
   "metadata": {},
   "outputs": [],
   "source": [
    "# Relative opportunity cost\n",
    "model_maxima_x = np.array([md[\"model_optimum\"][0] for md in campaign.data.metadata[N_start:]]).squeeze()\n",
    "experiment_at_model_maxima_x, _ = experiment(model_maxima_x)\n",
    "relative_opportunity_cost = np.abs(experiment_maxima - experiment_at_model_maxima_x) / np.abs(experiment_maxima)\n",
    "\n",
    "# Values of the points themselves\n",
    "sampled_y_values = campaign.data.Y.squeeze()\n",
    "relative_sampled_y_values_cost = np.abs(experiment_maxima - sampled_y_values) / np.abs(experiment_maxima)\n",
    "relative_sampled_y_values_cost = [np.min(relative_sampled_y_values_cost[:ii]) for ii in range(N_start, N_max)]\n",
    "\n",
    "# Other stuff..."
   ]
  },
  {
   "cell_type": "code",
   "execution_count": null,
   "id": "436a1434-1e70-4158-9b57-9ab51cb24211",
   "metadata": {},
   "outputs": [],
   "source": [
    "fig, axs = plt.subplots(2, 1, figsize=(3, 2), sharex=True, sharey=True)\n",
    "\n",
    "x = np.arange(N_start, N_max) + 1\n",
    "\n",
    "\n",
    "ax = axs[0]\n",
    "ax.plot(x, relative_opportunity_cost)\n",
    "ax.set_ylabel(\"Rel. O.C.\")\n",
    "\n",
    "ax = axs[1]\n",
    "ax.plot(x, relative_sampled_y_values_cost)\n",
    "ax.set_xlabel(\"$N$\")\n",
    "\n",
    "for ax in axs:\n",
    "    ax.set_yscale(\"log\")\n",
    "\n",
    "plt.show()"
   ]
  }
 ],
 "metadata": {
  "kernelspec": {
   "display_name": "Python 3 (ipykernel)",
   "language": "python",
   "name": "python3"
  },
  "language_info": {
   "codemirror_mode": {
    "name": "ipython",
    "version": 3
   },
   "file_extension": ".py",
   "mimetype": "text/x-python",
   "name": "python",
   "nbconvert_exporter": "python",
   "pygments_lexer": "ipython3",
   "version": "3.12.7"
  }
 },
 "nbformat": 4,
 "nbformat_minor": 5
}
